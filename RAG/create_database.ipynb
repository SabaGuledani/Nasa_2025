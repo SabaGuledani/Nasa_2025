{
 "cells": [
  {
   "cell_type": "code",
   "execution_count": null,
   "id": "57dfebfd",
   "metadata": {},
   "outputs": [],
   "source": [
    "import os, json\n",
    "from tqdm import tqdm\n",
    "from pymilvus import connections,Collection, utility, FieldSchema, CollectionSchema, DataType\n",
    "from dotenv import load_dotenv\n",
    "import torch\n",
    "from sentence_transformers import SentenceTransformer\n",
    "\n",
    "device = \"cuda\" if torch.cuda.is_available() else \"cpu\"\n",
    "# for big model BAAI/bge-m3\n",
    "model = SentenceTransformer(\"multi-qa-MiniLM-L6-cos-v1\", device=device)\n",
    "BATCH_SIZE = 100\n",
    "load_dotenv()\n"
   ]
  },
  {
   "cell_type": "code",
   "execution_count": null,
   "id": "d7507fcf",
   "metadata": {},
   "outputs": [],
   "source": []
  }
 ],
 "metadata": {
  "kernelspec": {
   "display_name": "Python 3",
   "language": "python",
   "name": "python3"
  },
  "language_info": {
   "name": "python",
   "version": "3.9.21"
  }
 },
 "nbformat": 4,
 "nbformat_minor": 5
}
