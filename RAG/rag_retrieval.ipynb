{
 "cells": [
  {
   "cell_type": "code",
   "execution_count": 5,
   "id": "d44d48c8",
   "metadata": {},
   "outputs": [],
   "source": [
    "import os\n",
    "import nest_asyncio\n",
    "from dotenv import load_dotenv\n",
    "from langchain_community.vectorstores import Milvus\n",
    "from langchain.embeddings import SentenceTransformerEmbeddings\n",
    "\n",
    "# Load environment variables\n",
    "load_dotenv()\n",
    "\n",
    "# Embedding model\n",
    "EMBEDDING_MODEL_NAME = \"multi-qa-MiniLM-L6-cos-v1\"\n",
    "embedding_model = SentenceTransformerEmbeddings(model_name=EMBEDDING_MODEL_NAME)\n",
    "\n",
    "\n",
    "# Connection args\n",
    "MILVUS_CONN = {\"host\": \"127.0.0.1\", \"port\": \"19530\"}\n",
    "\n",
    "\n",
    "def get_vector_store(collection_name: str):\n",
    "    \"\"\"Helper to get a Milvus vector store for a collection.\"\"\"\n",
    "    return Milvus(\n",
    "        embedding_function=embedding_model,\n",
    "        collection_name=collection_name,\n",
    "        connection_args=MILVUS_CONN,\n",
    "        vector_field=\"embedding\",\n",
    "        text_field=\"content\"\n",
    "    )\n",
    "\n",
    "\n",
    "def search_publications(query: str, k: int = 5):\n",
    "    \"\"\"Search the publications collection.\"\"\"\n",
    "    vector_store = get_vector_store(\"publications\")\n",
    "    retriever = vector_store.as_retriever(search_type=\"similarity\",\n",
    "                                          search_kwargs={\"k\": k, \"metric_type\": \"COSINE\"})\n",
    "    docs = retriever.get_relevant_documents(query)\n",
    "    results = [\n",
    "        {\n",
    "            \"PMC_code\": d.metadata.get(\"PMC_code\"),\n",
    "            \"name\": d.metadata.get(\"name\"),\n",
    "            \"authors\": d.metadata.get(\"authors\"),\n",
    "            \"date\": d.metadata.get(\"date\"),\n",
    "            \"doi\": d.metadata.get(\"doi\"),\n",
    "            \"text\": d.page_content\n",
    "        }\n",
    "        for d in docs\n",
    "    ]\n",
    "    return results\n",
    "\n",
    "\n",
    "def search_osdr(query: str, k: int = 5):\n",
    "    \"\"\"Search the osdr collection.\"\"\"\n",
    "    vector_store = get_vector_store(\"osdr\")\n",
    "    retriever = vector_store.as_retriever(search_type=\"similarity\",\n",
    "                                          search_kwargs={\"k\": k, \"metric_type\": \"COSINE\"})\n",
    "    docs = retriever.get_relevant_documents(query)\n",
    "    results = [\n",
    "        {\n",
    "            \"study_id\": d.metadata.get(\"study_id\"),\n",
    "            \"name\": d.metadata.get(\"name\"),\n",
    "            \"organisms\": d.metadata.get(\"organisms\"),\n",
    "            \"authors\": d.metadata.get(\"authors\"),\n",
    "            \"doi\": d.metadata.get(\"doi\"),\n",
    "            \"link\": d.metadata.get(\"link\"),\n",
    "            \"type\": d.metadata.get(\"type\"),\n",
    "            \"protocol_name\": d.metadata.get(\"protocole_name\"),\n",
    "            \"text\": d.metadata.get(\"content\")\n",
    "        }\n",
    "        for d in docs\n",
    "    ]\n",
    "    return results\n"
   ]
  },
  {
   "cell_type": "code",
   "execution_count": 6,
   "id": "3b77f10a",
   "metadata": {},
   "outputs": [
    {
     "data": {
      "text/plain": [
       "[{'PMC_code': 'PMC6165321',\n",
       "  'name': 'Impact of Spaceflight and Artificial Gravity on the Mouse Retina: Biochemical and Proteomic Analysis',\n",
       "  'authors': 'Masaki Shirakawa,Vijayalakshmi Sridharan,Marjan Boerma,Nina C Nishiyama,Michael J Pecaut,Michael D Delp,Stephanie Byrum,Alan J Tackett,Xiao W Mao,Satoru Takahashi,Dai Shiba',\n",
       "  'date': '2018-08-28',\n",
       "  'doi': '10.3390/ijms19092546',\n",
       "  'text': 'mice (n = 12) were launched from the Kennedy Space Center on a SpaceX rocket to the ISS for a 35-day mission. The animals were housed in the mouse Habitat Cage Unit (HCU) in the Japan Aerospace Exploration Agency (JAXA) “Kibo” facility on the ISS. The flight mice lived either under an ambient microgravity condition (µg) or in a centrifugal habitat unit that produced 1 g artificial gravity (µg + 1 g). Habitat control (HC) and vivarium control mice lived on Earth in HCUs or normal vivarium cages, respectively. Quantitative assessment of ocular tissue demonstrated that the µg group induced'},\n",
       " {'PMC_code': 'PMC4136787',\n",
       "  'name': 'Mice in Bion-M 1 Space Mission: Training and Selection',\n",
       "  'authors': 'Richard Boyle,Eugeniy Ilyin,Oleg Dolgov,Olga Vinogradova,Konstantin Anokhin,Anfisa Popova,Vladimir Sychev,Pavel Soldatov,Alexander Andreev-Andrievskiy,Darya Tsvirkun,Tatyana Nemirovskaya,Jeffrey Alberts,Boris Shenkman',\n",
       "  'date': '2014-08-18',\n",
       "  'doi': '10.1371/journal.pone.0104830',\n",
       "  'text': 'in this experiment; three mice were transgenic with pleiotrophin overexpression (C57BLJ10/ PTN) and three mice were their wild-type counterparts. The MDS habitats required periodic replenishment and servicing by by astronauts. Sadly, half of the mice died during the course of this mission due to various estimated reasons. In the present paper we aim to present a brief overview of the Bion-M 1 mission scientific goals and experimental design. Of particular interest we will focus on the program of mouse training and selection for the experiments, and some outcomes of the Bion-M 1 mission. The'},\n",
       " {'PMC_code': 'PMC4136787',\n",
       "  'name': 'Mice in Bion-M 1 Space Mission: Training and Selection',\n",
       "  'authors': 'Richard Boyle,Eugeniy Ilyin,Oleg Dolgov,Olga Vinogradova,Konstantin Anokhin,Anfisa Popova,Vladimir Sychev,Pavel Soldatov,Alexander Andreev-Andrievskiy,Darya Tsvirkun,Tatyana Nemirovskaya,Jeffrey Alberts,Boris Shenkman',\n",
       "  'date': '2014-08-18',\n",
       "  'doi': '10.1371/journal.pone.0104830',\n",
       "  'text': 'inserted their bodies into the recesses or crevasses created by the hardware, especially the moving parts. This remains supposition, but appears likely and should be considered in future designs as well as in the arrangements for video surveillance during future flights. Results obtained in the Bion-M 1 mission should be taken into account in design of new mice habitats for future space missions. Despite the general design has long since proven its efficiency in the previous Bion flights with rats, including use of paste food and the system of its distribution, further development is needed'},\n",
       " {'PMC_code': 'PMC8131644',\n",
       "  'name': 'Spaceflight and hind limb unloading induces an arthritic phenotype in knee articular cartilage and menisci of rodents',\n",
       "  'authors': 'Ted A Bateman,Louis S Stodieck,Cristina M Furdui,Samuel Rosas,Eric Livingston,Nequesha S Mohamed,Andy T Kwok,Bethany A Kerr,Xiao W Mao,Jeffrey S Willey,Joseph E Moore,Mary L Bouxsein,Virginia L Ferguson,Jingyun Lee,Michael D Delp,Li Tan,Raghunatha R Yammani,David C Zawieja,Johannes F Plate',\n",
       "  'date': '2021-05-18',\n",
       "  'doi': '10.1038/s41598-021-90010-2',\n",
       "  'text': 'of Health, Bethesda, MD, USA). Male C57BL/6\\xa0J mice (Jackson Labs, Bar Harbor, ME) were sent to the ISS as part of the Rodent Research (RR)-9 mission in August 2017, spending\\u2009~\\u200935\\xa0days in microgravity. The RR9 experiment was launched as part of the SpaceX Commercial Resupply Services (CRS)-12 mission from the Kennedy Space Center (KSC) at Cape Canaveral, FL to the ISS. Mice arrived 4\\xa0weeks prior to launch at the KSC and were maintained on a 12:12\\xa0h dark/light cycle, and housed in vivarium caging (n\\u2009=\\u200910/cage). Mice were skeletally growing at the outset58. Prior to launch, six cages of mice'},\n",
       " {'PMC_code': 'PMC10285634',\n",
       "  'name': 'Toward countering muscle and bone loss with spaceflight: GSK3 as a potential target',\n",
       "  'authors': 'Mia S Geromella,Holt N Messner,Rene Vandenboom,Ryan W Baranowski,Nigel Kurgan,Adam J MacNeil,William Gittings,Guillemette Gauquelin-Koch,Briana L Hockey,Kennedy C Whitley,Colton JF Watson,Val A Fajardo,Fabrice Bertile,Jessica L Braun,Wendy E Ward,Jenalyn L Yumol',\n",
       "  'date': '2023-06-08',\n",
       "  'doi': '10.1016/j.isci.2023.107047',\n",
       "  'text': 'of launch) and female C57BL/6J (RR1, 16\\xa0weeks of age at time of launch) mice were acclimated and then launched in a specialized transporter and transferred to Rodent Habitats45 on board the International Space Station (ISS). Additional details on housing and tissue collection/preparation can be found elsewhere for RR1, RR9, and BION-M1.18,19 For the RR18 mission, flight mice were aboard the ISS for 30\\xa0days with weekly injections of either sterile saline (0.9%) or the antioxidant metalloporphyrin (MnTnBuOE-2-PyP5+, herein referred to as BuOE). The mice used in this study were part of a live'}]"
      ]
     },
     "execution_count": 6,
     "metadata": {},
     "output_type": "execute_result"
    }
   ],
   "source": [
    "search_publications(\"Mice in Bion-M 1 Space Mission\")"
   ]
  },
  {
   "cell_type": "code",
   "execution_count": 11,
   "id": "0980bcb2",
   "metadata": {},
   "outputs": [
    {
     "name": "stdout",
     "output_type": "stream",
     "text": [
      "{'collection_name': 'publications', 'auto_id': True, 'num_shards': 1, 'description': 'RAG collection with publication metadata', 'fields': [{'field_id': 100, 'name': 'id', 'description': '', 'type': <DataType.INT64: 5>, 'params': {}, 'auto_id': True, 'is_primary': True}, {'field_id': 101, 'name': 'embedding', 'description': '', 'type': <DataType.FLOAT_VECTOR: 101>, 'params': {'dim': 384}}, {'field_id': 102, 'name': 'PMC_code', 'description': '', 'type': <DataType.VARCHAR: 21>, 'params': {'max_length': 20}}, {'field_id': 103, 'name': 'name', 'description': '', 'type': <DataType.VARCHAR: 21>, 'params': {'max_length': 300}}, {'field_id': 104, 'name': 'content', 'description': '', 'type': <DataType.VARCHAR: 21>, 'params': {'max_length': 2000}}, {'field_id': 105, 'name': 'authors', 'description': '', 'type': <DataType.VARCHAR: 21>, 'params': {'max_length': 2000}}, {'field_id': 106, 'name': 'date', 'description': '', 'type': <DataType.VARCHAR: 21>, 'params': {'max_length': 20}}, {'field_id': 107, 'name': 'doi', 'description': '', 'type': <DataType.VARCHAR: 21>, 'params': {'max_length': 200}}], 'functions': [], 'aliases': [], 'collection_id': 461242412942212330, 'consistency_level': 2, 'properties': {}, 'num_partitions': 1, 'enable_dynamic_field': False, 'created_timestamp': 461248253533093893}\n"
     ]
    }
   ],
   "source": [
    "from pymilvus import Collection\n",
    "\n",
    "c = Collection(\"publications\")\n",
    "print(c.describe())\n"
   ]
  },
  {
   "cell_type": "code",
   "execution_count": null,
   "id": "4d1b4d77",
   "metadata": {},
   "outputs": [],
   "source": []
  },
  {
   "cell_type": "code",
   "execution_count": null,
   "id": "435e762f",
   "metadata": {},
   "outputs": [],
   "source": []
  },
  {
   "cell_type": "code",
   "execution_count": null,
   "id": "b307c016",
   "metadata": {},
   "outputs": [],
   "source": []
  },
  {
   "cell_type": "code",
   "execution_count": null,
   "id": "a152d588",
   "metadata": {},
   "outputs": [],
   "source": []
  },
  {
   "cell_type": "code",
   "execution_count": null,
   "id": "84bd7c29",
   "metadata": {},
   "outputs": [],
   "source": []
  },
  {
   "cell_type": "code",
   "execution_count": null,
   "id": "bffa49b9",
   "metadata": {},
   "outputs": [],
   "source": []
  }
 ],
 "metadata": {
  "kernelspec": {
   "display_name": "Python 3",
   "language": "python",
   "name": "python3"
  },
  "language_info": {
   "codemirror_mode": {
    "name": "ipython",
    "version": 3
   },
   "file_extension": ".py",
   "mimetype": "text/x-python",
   "name": "python",
   "nbconvert_exporter": "python",
   "pygments_lexer": "ipython3",
   "version": "3.9.21"
  }
 },
 "nbformat": 4,
 "nbformat_minor": 5
}
