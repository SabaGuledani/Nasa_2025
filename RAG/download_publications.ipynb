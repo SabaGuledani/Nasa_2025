{
 "cells": [
  {
   "cell_type": "code",
   "execution_count": null,
   "id": "76ae7531",
   "metadata": {},
   "outputs": [],
   "source": [
    "import pandas as pd\n",
    "import cloudscraper\n",
    "from bs4 import BeautifulSoup\n",
    "import re\n",
    "import os\n",
    "import json\n",
    "import time"
   ]
  },
  {
   "cell_type": "code",
   "execution_count": null,
   "id": "5e22f5a8",
   "metadata": {},
   "outputs": [],
   "source": [
    "def extract_article_name(header):\n",
    "    return header.find('h1').text\n",
    "\n",
    "\n",
    "def extract_authors(header) -> list:\n",
    "    \"\"\"extract authors of article return list of them\"\"\"\n",
    "    authors_block = header.find(\"div\", {'class':\"cg p\"})\n",
    "    authors = [a_link.text for a_link in authors_block.find_all(\"a\")]\n",
    "    return list(set(authors))\n",
    "\n",
    "def extract_article_sections(article):\n",
    "    article_content = article.find(\"section\",{'class':'body main-article-body'})\n",
    "    sections = article_content.find_all('section',recursive=False)\n",
    "    sections = [elem for elem in sections if elem.h2.text != \"References\"]\n",
    "    return sections\n",
    "\n",
    "def extract_section_texts(sections):\n",
    "    all_texts = \"\"\n",
    "    for elem in sections:\n",
    "        texts = \" \".join([paragraph.text for paragraph in elem.find_all('p')])\n",
    "        all_texts += \"\\n\" + texts\n",
    "    return all_texts        \n",
    "    \n",
    "    \n",
    "def extract_time_and_doi_section(article):\n",
    "\n",
    "    time_and_doi_section = article.find('section',{'class':\"pmc-layout__citation font-secondary font-xs\"})\n",
    "    text = time_and_doi_section.find(\"div\").text.strip()\n",
    "    return text\n",
    "\n",
    "def extract_date_and_doi(text):\n",
    "        \n",
    "    pattern = r\"(\\d{4}\\s+[A-Za-z]{3}\\s+\\d{1,2}).*?doi:\\s*(\\S+)\"\n",
    "    match = re.search(pattern, text)\n",
    "\n",
    "    if match:\n",
    "        date = match.group(1)\n",
    "        doi = match.group(2)\n",
    "        # print(\"Date:\", date)\n",
    "        # print(\"DOI:\", doi)\n",
    "        return {'date':date,'doi':doi}\n",
    "    else:\n",
    "        return None\n",
    "    \n",
    "\n",
    "def extract_article(soup):\n",
    "    main = soup.find('main',{\"id\":\"main-content\"})\n",
    "    article = main.find(\"article\")\n",
    "\n",
    "    header = article.find(\"div\",{'class':\"ameta p font-secondary font-xs\"})\n",
    "    name = extract_article_name(header)\n",
    "    authors = extract_authors(header)\n",
    "    article_sections =  extract_article_sections(article)\n",
    "    texts = extract_section_texts(article_sections)\n",
    "    date_doi_dict = extract_date_and_doi(extract_time_and_doi_section(article))\n",
    "    if date_doi_dict is not None:\n",
    "        date = date_doi_dict[\"date\"]\n",
    "        doi = date_doi_dict['doi']\n",
    "    else:\n",
    "        date = None\n",
    "        doi = None\n",
    "    article_dict = {'name':name,\n",
    "                    \"authors\":authors,\n",
    "                    \"text\":texts,\n",
    "                    'date':date,\n",
    "                    'doi':doi\n",
    "                    }\n",
    "    return article_dict\n"
   ]
  },
  {
   "cell_type": "code",
   "execution_count": 96,
   "id": "13e9dadb",
   "metadata": {},
   "outputs": [],
   "source": [
    "df_pubs = pd.read_csv(\"./SB_publication_PMC.csv\")\n",
    "scraper = cloudscraper.create_scraper() "
   ]
  },
  {
   "cell_type": "code",
   "execution_count": null,
   "id": "257a5cf2",
   "metadata": {},
   "outputs": [],
   "source": [
    "links = list(df_pubs['Link'].values)\n",
    "for link in links:\n",
    "\n",
    "    res = scraper.get(link)\n",
    "    soup = BeautifulSoup(res.content,'html.parser')\n",
    "    "
   ]
  },
  {
   "cell_type": "code",
   "execution_count": null,
   "id": "c228162a",
   "metadata": {},
   "outputs": [
    {
     "name": "stdout",
     "output_type": "stream",
     "text": [
      "Date: 2020 Mar 6\n",
      "DOI: 10.3389/fpls.2020.00199\n"
     ]
    }
   ],
   "source": []
  },
  {
   "cell_type": "code",
   "execution_count": null,
   "id": "28c7d8ef",
   "metadata": {},
   "outputs": [],
   "source": []
  }
 ],
 "metadata": {
  "kernelspec": {
   "display_name": "Python 3",
   "language": "python",
   "name": "python3"
  },
  "language_info": {
   "codemirror_mode": {
    "name": "ipython",
    "version": 3
   },
   "file_extension": ".py",
   "mimetype": "text/x-python",
   "name": "python",
   "nbconvert_exporter": "python",
   "pygments_lexer": "ipython3",
   "version": "3.9.21"
  }
 },
 "nbformat": 4,
 "nbformat_minor": 5
}
