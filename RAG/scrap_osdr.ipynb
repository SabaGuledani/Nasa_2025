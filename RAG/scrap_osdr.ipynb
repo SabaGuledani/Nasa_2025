{
 "cells": [
  {
   "cell_type": "code",
   "execution_count": 1,
   "id": "ec8f74f0",
   "metadata": {},
   "outputs": [],
   "source": [
    "from selenium import webdriver\n",
    "from selenium.webdriver.chrome.service import Service\n",
    "from selenium.webdriver.chrome.options import Options\n",
    "from selenium.webdriver.common.by import By\n",
    "from selenium.webdriver.support.ui import WebDriverWait\n",
    "from selenium.webdriver.support import expected_conditions as EC\n",
    "from bs4 import BeautifulSoup\n",
    "import time\n",
    "from utils import find_elem"
   ]
  },
  {
   "cell_type": "code",
   "execution_count": 2,
   "id": "efd394d4",
   "metadata": {},
   "outputs": [],
   "source": [
    "BASE_URL = \"https://osdr.nasa.gov/bio/repo/data/studies/OSD-\"\n",
    "link = BASE_URL + \"833\"\n"
   ]
  },
  {
   "cell_type": "code",
   "execution_count": 3,
   "id": "4d1e8941",
   "metadata": {},
   "outputs": [],
   "source": [
    "wd = webdriver.Chrome()\n",
    "wd.get(link)\n",
    "time.sleep(1)\n",
    "wd.maximize_window()\n"
   ]
  },
  {
   "cell_type": "code",
   "execution_count": null,
   "id": "e09828c8",
   "metadata": {},
   "outputs": [],
   "source": [
    "html = wd.page_source #extract webpage html\n",
    "soup = BeautifulSoup(html, \"html.parser\")\n",
    "\n",
    "\n",
    "name_block = soup.find(\"div\",{'class':\"flex-container justify-start\"}) # extract block where name of OSD study is\n",
    "# extract name itself \n",
    "study_name = name_block.select(\"body > app-root > repo-view > mat-sidenav-container > mat-sidenav-content > div.flex-container.justify-start > div.three-quarters-width > h1 > span:nth-child(4)\")[0].text\n",
    "\n",
    "# extract genelabID block\n",
    "b_element = find_elem(\"//b[contains(text(),'GeneLab ID')]\", wd) \n",
    "# extract genelabID and replace first :\n",
    "gene_lab_id = wd.execute_script(\"return arguments[0].nextSibling.nodeValue.trim();\", b_element).replace(\":\",\"\").strip()\n",
    "\n",
    "# extract unique doi\n",
    "doi = find_elem(\"/html/body/app-root/repo-view/mat-sidenav-container/mat-sidenav-content/div[2]/a[1]\",wd).text\n",
    "\n",
    "# main description of study\n",
    "description = find_elem('//*[@id=\"cdk-accordion-child-0\"]/div/div/div/description-panel/div[1]/div/p',wd).text\n",
    "print(description)\n",
    "\n",
    "# which organisms this study is related to\n",
    "organisms_block = find_elem('//*[@id=\"cdk-accordion-child-0\"]/div/div/div/description-panel/div[3]/mat-grid-list', wd)\n",
    "organisms = [organism.text for organism in organisms_block.find_elements(By.CLASS_NAME,\"mat-grid-tile-content\")]\n",
    "\n",
    "# An ontology factor is a variable or condition in an experiment that might influence the results. It’s essentially an experimental parameter.\n",
    "# These ontology links help out RAG system understand that different experiments are related even if the text uses slightly different words.\n",
    "ontology_block = find_elem('//*[@id=\"cdk-accordion-child-0\"]/div/div/div/description-panel/div[2]/table/tbody', wd)\n",
    "ontology_block_rows = ontology_block.find_elements(By.TAG_NAME, 'tr')\n",
    "ontology_concepts = {}\n",
    "for row in ontology_block_rows:\n",
    "    key_values = row.find_elements(By.TAG_NAME,\"td\")\n",
    "    ontology_concepts[key_values[0].text] = key_values[1].text\n",
    "print(ontology_concepts)\n",
    "\n",
    "# extract authors related to this study(contacts)\n",
    "authors_block = find_elem('//*[@id=\"cdk-accordion-child-0\"]/div/div/div/description-panel/div[6]/div',wd)\n",
    "authors_elems_list = authors_block.find_elements(By.CLASS_NAME,\"contact-container.ng-star-inserted\")\n",
    "\n",
    "authors = []\n",
    "for elem in authors_elems_list:\n",
    "    authors.append(elem.text.replace(\",\",\"\").strip())\n",
    "\n",
    "# We should also extract protocols which are descriptive of how experiments lasted.\n",
    "# first we expandtheir descriptions\n",
    "expand_protocols_btn = find_elem('//*[@id=\"cdk-accordion-child-4\"]/div/div/div/protocols-panel/div/div/button[1]/span[1]', wd)\n",
    "time.sleep(1.5)\n",
    "expand_protocols_btn.click()\n",
    "# find block with all cards\n",
    "samples_block = find_elem('//*[@id=\"Samples\"]/div/div',wd)\n",
    "samples_cards = samples_block.find_elements(By.XPATH, \"./div\")\n",
    "\n",
    "# extract name and descriptions, store in format List[dict(name:value, description:value)]\n",
    "samples_info_list = []\n",
    "for card in samples_cards:\n",
    "    protocol_sample_name = card.find_element(By.CLASS_NAME,\"card-header\").text\n",
    "    nested_div = card.find_element(By.TAG_NAME,\"div\").find_element(By.TAG_NAME,'div').find_element(By.TAG_NAME,'div')\n",
    "    sample_description = nested_div.find_elements(By.TAG_NAME,'div')[1].text.replace(\"Description\", \"\").strip()\n",
    "    sample_info = {\"name\":protocol_sample_name, \"description\": sample_description}\n",
    "    samples_info_list.append(sample_info)\n",
    "    \n"
   ]
  },
  {
   "cell_type": "code",
   "execution_count": null,
   "id": "c8d9655c",
   "metadata": {},
   "outputs": [],
   "source": []
  },
  {
   "cell_type": "code",
   "execution_count": null,
   "id": "673cb1be",
   "metadata": {},
   "outputs": [],
   "source": []
  },
  {
   "cell_type": "code",
   "execution_count": null,
   "id": "29e26380",
   "metadata": {},
   "outputs": [],
   "source": []
  },
  {
   "cell_type": "code",
   "execution_count": null,
   "id": "2f2c03cd",
   "metadata": {},
   "outputs": [],
   "source": []
  },
  {
   "cell_type": "code",
   "execution_count": null,
   "id": "6fc5285d",
   "metadata": {},
   "outputs": [],
   "source": []
  },
  {
   "cell_type": "code",
   "execution_count": null,
   "id": "aa74cdf0",
   "metadata": {},
   "outputs": [],
   "source": []
  }
 ],
 "metadata": {
  "kernelspec": {
   "display_name": "Python 3",
   "language": "python",
   "name": "python3"
  },
  "language_info": {
   "codemirror_mode": {
    "name": "ipython",
    "version": 3
   },
   "file_extension": ".py",
   "mimetype": "text/x-python",
   "name": "python",
   "nbconvert_exporter": "python",
   "pygments_lexer": "ipython3",
   "version": "3.9.21"
  }
 },
 "nbformat": 4,
 "nbformat_minor": 5
}
