{
 "cells": [
  {
   "cell_type": "code",
   "execution_count": null,
   "id": "5f61da50",
   "metadata": {},
   "outputs": [],
   "source": [
    "# TODO: author email ending removal \n",
    "# "
   ]
  },
  {
   "cell_type": "code",
   "execution_count": 2,
   "id": "52734f30",
   "metadata": {},
   "outputs": [
    {
     "data": {
      "text/plain": [
       "True"
      ]
     },
     "execution_count": 2,
     "metadata": {},
     "output_type": "execute_result"
    }
   ],
   "source": [
    "import os, json\n",
    "from tqdm import tqdm\n",
    "from pymilvus import connections,Collection, utility, FieldSchema, CollectionSchema, DataType\n",
    "from dotenv import load_dotenv\n",
    "import torch\n",
    "from sentence_transformers import SentenceTransformer\n",
    "from langchain_text_splitters import RecursiveCharacterTextSplitter\n",
    "\n",
    "device = \"cuda\" if torch.cuda.is_available() else \"cpu\"\n",
    "# for big model BAAI/bge-m3\n",
    "model = SentenceTransformer(\"multi-qa-MiniLM-L6-cos-v1\", device=device)\n",
    "BATCH_SIZE = 100\n",
    "load_dotenv()\n"
   ]
  },
  {
   "cell_type": "code",
   "execution_count": 3,
   "id": "f7e117e1",
   "metadata": {},
   "outputs": [
    {
     "name": "stdout",
     "output_type": "stream",
     "text": [
      "cuda\n",
      "11.8\n"
     ]
    }
   ],
   "source": [
    "print(device)\n",
    "print(torch.version.cuda)"
   ]
  },
  {
   "cell_type": "code",
   "execution_count": 4,
   "id": "96cbd783",
   "metadata": {},
   "outputs": [
    {
     "name": "stdout",
     "output_type": "stream",
     "text": [
      "Connected to Milvus: v2.3.21\n"
     ]
    }
   ],
   "source": [
    "\n",
    "connections.connect(\n",
    "    alias=\"default\",\n",
    "    host=\"127.0.0.1\",\n",
    "    port=\"19530\",\n",
    "    timeout=5,\n",
    "    secure=False\n",
    ")\n",
    "\n",
    "print(\"Connected to Milvus:\", utility.get_server_version())\n"
   ]
  },
  {
   "cell_type": "code",
   "execution_count": 5,
   "id": "2ec80751",
   "metadata": {},
   "outputs": [
    {
     "name": "stdout",
     "output_type": "stream",
     "text": [
      "Collection 'osdr' does not exist.\n"
     ]
    }
   ],
   "source": [
    "\n",
    "# incase I need to delete it\n",
    "collection_name = \"osdr\"\n",
    "\n",
    "# Check if collection exists\n",
    "if utility.has_collection(collection_name):\n",
    "    utility.drop_collection(collection_name)\n",
    "    print(f\"Collection '{collection_name}' deleted.\")\n",
    "else:\n",
    "    print(f\"Collection '{collection_name}' does not exist.\")"
   ]
  },
  {
   "cell_type": "code",
   "execution_count": 8,
   "id": "2b63b93f",
   "metadata": {},
   "outputs": [],
   "source": [
    "def load_docs(folder_path:str) -> list:\n",
    "    \"\"\"load json files from specified folder into list, not load if text field is empty\"\"\"\n",
    "    docs = list()\n",
    "\n",
    "    for file in os.listdir(folder_path):\n",
    "        if file.endswith(\".json\"):\n",
    "            with open(os.path.join(folder_path, file) , \"r\", encoding=\"utf-8\") as doc:\n",
    "                data = json.load(doc)\n",
    "                if data[\"description\"] != \"\":\n",
    "                    docs.append(data)\n",
    "                \n",
    "    return docs"
   ]
  },
  {
   "cell_type": "code",
   "execution_count": 9,
   "id": "c4a385f1",
   "metadata": {},
   "outputs": [],
   "source": [
    "\n",
    "folder_path = \"./data/osdr_raw/\"\n",
    "documents = load_docs(folder_path)\n"
   ]
  },
  {
   "cell_type": "code",
   "execution_count": 14,
   "id": "df91f88b",
   "metadata": {},
   "outputs": [],
   "source": [
    "def clean_osd_name(osd:json):\n",
    "    \"\"\"clean osd name from trailing escape characters and spaces\"\"\"\n",
    "    osd[\"study_name\"] = osd[\"study_name\"].replace(r\"\\n\",\"\").strip()\n",
    "def clean_text(osd:json):\n",
    "    \"\"\"strip main text\"\"\"\n",
    "    osd[\"text\"] = osd[\"text\"].strip()\n",
    "\n",
    "def remove_email(osd:json):\n",
    "    if len(osd[\"authors\"]) > 1:\n",
    "        authors_cleaned = []\n",
    "    \n",
    "        for author in osd[\"authors\"]:\n",
    "            if author.endswith(\"email\"):\n",
    "                author = author.replace(\"email\",\"\")\n",
    "            author = author.strip()\n",
    "            authors_cleaned.append(author)\n",
    "        osd[\"authors\"] = authors_cleaned\n",
    "\n"
   ]
  },
  {
   "cell_type": "code",
   "execution_count": 15,
   "id": "d20999c0",
   "metadata": {},
   "outputs": [],
   "source": [
    "for doc in documents:\n",
    "    clean_osd_name(doc)\n",
    "    remove_email(doc)"
   ]
  },
  {
   "cell_type": "code",
   "execution_count": null,
   "id": "418d8e82",
   "metadata": {},
   "outputs": [],
   "source": []
  },
  {
   "cell_type": "code",
   "execution_count": null,
   "id": "e85e1449",
   "metadata": {},
   "outputs": [],
   "source": []
  },
  {
   "cell_type": "code",
   "execution_count": null,
   "id": "c70fdd61",
   "metadata": {},
   "outputs": [],
   "source": []
  },
  {
   "cell_type": "code",
   "execution_count": null,
   "id": "b4efcf7e",
   "metadata": {},
   "outputs": [],
   "source": []
  }
 ],
 "metadata": {
  "kernelspec": {
   "display_name": "Python 3",
   "language": "python",
   "name": "python3"
  },
  "language_info": {
   "codemirror_mode": {
    "name": "ipython",
    "version": 3
   },
   "file_extension": ".py",
   "mimetype": "text/x-python",
   "name": "python",
   "nbconvert_exporter": "python",
   "pygments_lexer": "ipython3",
   "version": "3.9.21"
  }
 },
 "nbformat": 4,
 "nbformat_minor": 5
}
