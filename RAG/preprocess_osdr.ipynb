{
 "cells": [
  {
   "cell_type": "code",
   "execution_count": null,
   "id": "5f61da50",
   "metadata": {},
   "outputs": [],
   "source": [
    "# TODO: author email ending removal \n",
    "# "
   ]
  },
  {
   "cell_type": "code",
   "execution_count": 1,
   "id": "52734f30",
   "metadata": {},
   "outputs": [
    {
     "data": {
      "text/plain": [
       "True"
      ]
     },
     "execution_count": 1,
     "metadata": {},
     "output_type": "execute_result"
    }
   ],
   "source": [
    "import os, json\n",
    "import copy\n",
    "from tqdm import tqdm\n",
    "from pymilvus import connections,Collection, utility, FieldSchema, CollectionSchema, DataType\n",
    "from dotenv import load_dotenv\n",
    "import torch\n",
    "from sentence_transformers import SentenceTransformer\n",
    "from langchain_text_splitters import RecursiveCharacterTextSplitter\n",
    "\n",
    "device = \"cuda\" if torch.cuda.is_available() else \"cpu\"\n",
    "# for big model BAAI/bge-m3\n",
    "model = SentenceTransformer(\"multi-qa-MiniLM-L6-cos-v1\", device=device)\n",
    "BATCH_SIZE = 100\n",
    "load_dotenv()\n"
   ]
  },
  {
   "cell_type": "code",
   "execution_count": 2,
   "id": "f7e117e1",
   "metadata": {},
   "outputs": [
    {
     "name": "stdout",
     "output_type": "stream",
     "text": [
      "cuda\n",
      "11.8\n"
     ]
    }
   ],
   "source": [
    "print(device)\n",
    "print(torch.version.cuda)"
   ]
  },
  {
   "cell_type": "code",
   "execution_count": 3,
   "id": "96cbd783",
   "metadata": {},
   "outputs": [
    {
     "name": "stdout",
     "output_type": "stream",
     "text": [
      "Connected to Milvus: v2.3.21\n"
     ]
    }
   ],
   "source": [
    "\n",
    "connections.connect(\n",
    "    alias=\"default\",\n",
    "    host=\"127.0.0.1\",\n",
    "    port=\"19530\",\n",
    "    timeout=5,\n",
    "    secure=False\n",
    ")\n",
    "\n",
    "print(\"Connected to Milvus:\", utility.get_server_version())\n"
   ]
  },
  {
   "cell_type": "code",
   "execution_count": 4,
   "id": "2ec80751",
   "metadata": {},
   "outputs": [
    {
     "name": "stdout",
     "output_type": "stream",
     "text": [
      "Collection 'osdr' does not exist.\n"
     ]
    }
   ],
   "source": [
    "\n",
    "# incase I need to delete it\n",
    "collection_name = \"osdr\"\n",
    "\n",
    "# Check if collection exists\n",
    "if utility.has_collection(collection_name):\n",
    "    utility.drop_collection(collection_name)\n",
    "    print(f\"Collection '{collection_name}' deleted.\")\n",
    "else:\n",
    "    print(f\"Collection '{collection_name}' does not exist.\")"
   ]
  },
  {
   "cell_type": "code",
   "execution_count": 5,
   "id": "2b63b93f",
   "metadata": {},
   "outputs": [],
   "source": [
    "def load_docs(folder_path:str) -> list:\n",
    "    \"\"\"load json files from specified folder into list, not load if text field is empty\"\"\"\n",
    "    docs = list()\n",
    "\n",
    "    for file in os.listdir(folder_path):\n",
    "        if file.endswith(\".json\"):\n",
    "            with open(os.path.join(folder_path, file) , \"r\", encoding=\"utf-8\") as doc:\n",
    "                data = json.load(doc)\n",
    "                if data[\"description\"] != \"\":\n",
    "                    docs.append(data)\n",
    "                \n",
    "    return docs"
   ]
  },
  {
   "cell_type": "code",
   "execution_count": 6,
   "id": "c4a385f1",
   "metadata": {},
   "outputs": [],
   "source": [
    "\n",
    "folder_path = \"./data/osdr_raw/\"\n",
    "documents = load_docs(folder_path)\n"
   ]
  },
  {
   "cell_type": "code",
   "execution_count": 7,
   "id": "df91f88b",
   "metadata": {},
   "outputs": [],
   "source": [
    "def clean_osd_name(osd:json):\n",
    "    \"\"\"clean osd name from trailing escape characters and spaces\"\"\"\n",
    "    osd[\"study_name\"] = osd[\"study_name\"].replace(r\"\\n\",\"\").strip()\n",
    "def clean_text(osd:json):\n",
    "    \"\"\"strip main text\"\"\"\n",
    "    osd[\"text\"] = osd[\"text\"].strip()\n",
    "\n",
    "def remove_email(osd:json):\n",
    "    if len(osd[\"authors\"]) > 1:\n",
    "        authors_cleaned = []\n",
    "    \n",
    "        for author in osd[\"authors\"]:\n",
    "            if author.endswith(\"email\"):\n",
    "                author = author.replace(\"email\",\"\")\n",
    "            author = author.strip()\n",
    "            authors_cleaned.append(author)\n",
    "        osd[\"authors\"] = authors_cleaned\n",
    "\n"
   ]
  },
  {
   "cell_type": "code",
   "execution_count": null,
   "id": "d20999c0",
   "metadata": {},
   "outputs": [],
   "source": [
    "for doc in documents:\n",
    "    clean_osd_name(doc)\n",
    "    remove_email(doc)\n"
   ]
  },
  {
   "cell_type": "code",
   "execution_count": null,
   "id": "418d8e82",
   "metadata": {},
   "outputs": [],
   "source": [
    "osd_split_list = []\n",
    "for doc in documents:\n",
    "    doi = doc[\"doi\"]\n",
    "    name = doc[\"study_name\"]\n",
    "    id = doc['genelab_id']\n",
    "    organisms = \",\".join(doc['organisms'])\n",
    "    authors = \",\".join(doc['authors'])\n",
    "    link = doc['link']\n",
    "    \n",
    "    desc = doc['description']\n",
    "    base_info = {\"doi\":doi, 'name':name, 'study_id':id, \"organisms\":organisms, \"authors\":authors,\"link\":link}\n",
    "    main_desc_doc = copy.deepcopy(base_info)\n",
    "    main_desc_doc[\"type\"] = \"description\"\n",
    "    main_desc_doc[\"text\"] = desc\n",
    "    main_desc_doc['protocole_name'] = \"\"\n",
    "    # add main description doc\n",
    "    osd_split_list.append(main_desc_doc)\n",
    "\n",
    "    protocoles = doc[\"protocole_samples\"]\n",
    "    if len(protocoles) > 1:\n",
    "        for protocole in protocoles:\n",
    "            protocole_doc = copy.deepcopy(base_info)\n",
    "            protocole_doc['type'] = \"protocole\"\n",
    "            protocole_doc[\"text\"] = protocole['description']\n",
    "            protocole_doc['protocole_name'] = protocole[\"name\"]\n",
    "            osd_split_list.append(protocole_doc)"
   ]
  },
  {
   "cell_type": "code",
   "execution_count": 18,
   "id": "e85e1449",
   "metadata": {},
   "outputs": [],
   "source": [
    "import pickle\n",
    "\n",
    "\n",
    "def save_to_pickle(filename,object_to_save):\n",
    "    if \".pkl\" not in filename:\n",
    "        filename = filename+\".pkl\"\n",
    "    with open(filename, \"wb\") as f:\n",
    "        pickle.dump(object_to_save,f)\n",
    "\n",
    "def load_pickle(filename):\n",
    "    if \".pkl\" not in filename:\n",
    "        filename = filename + \".pkl\"\n",
    "    with open(filename, \"rb\") as f:\n",
    "        return pickle.load(f)\n",
    "# save_to_pickle(\"semantic_chunks.pkl\", all_chunks)"
   ]
  },
  {
   "cell_type": "code",
   "execution_count": 20,
   "id": "b4efcf7e",
   "metadata": {},
   "outputs": [
    {
     "data": {
      "text/plain": [
       "{'doi': '10.25966/t6db-f633',\n",
       " 'name': 'Expression data from drosophila melanogaster',\n",
       " 'study_id': 'GLDS-1',\n",
       " 'organisms': 'Drosophila melanogaster',\n",
       " 'authors': 'Deborah Kimbrell,Michael George',\n",
       " 'link': 'https://osdr.nasa.gov/bio/repo/data/studies/OSD-1',\n",
       " 'type': 'description',\n",
       " 'text': 'Space travel presents unlimited opportunities for exploration and discovery, but requires a more complete understanding of the immunological consequences of long-term exposure to the conditions of spaceflight. To understand these consequences better and to contribute to design of effective countermeasures, we used the Drosophila model to compare innate immune responses to bacteria and fungi in flies that were either raised on earth or in outer space aboard the NASA Space Shuttle Discovery (STS-121). Microarrays were used to characterize changes in gene expression that occur in response to infection by bacteria and fungus in drosophila that were either hatched and raised in outer space (microgravity) or on earth (normal gravity). Whole Oregon R strain drosophila melanogaster fruit flies either raised on earth or in space that were (1) uninfected, (2) infected with bacteria (Escherichia coli), or (3) infected with fungus (Beauveria bassiana) were used for RNA extraction and hybridization on Affymetrix microarrays.',\n",
       " 'protocole_name': ''}"
      ]
     },
     "execution_count": 20,
     "metadata": {},
     "output_type": "execute_result"
    }
   ],
   "source": [
    "save_to_pickle(\"osd_split_list.pkl\",osd_split_list )\n"
   ]
  },
  {
   "cell_type": "code",
   "execution_count": 26,
   "id": "7d0e8602",
   "metadata": {},
   "outputs": [
    {
     "name": "stderr",
     "output_type": "stream",
     "text": [
      "Processing Docs: 100%|██████████| 1557/1557 [00:00<00:00, 5782.61it/s]\n"
     ]
    }
   ],
   "source": [
    "text_splitter = RecursiveCharacterTextSplitter(chunk_size=600, chunk_overlap=120)\n",
    "all_chunks = []\n",
    "\n",
    "for doc in tqdm(osd_split_list,\"Processing Docs\"):\n",
    "    chunks = text_splitter.create_documents([doc[\"text\"]])\n",
    "    for chunk in chunks:\n",
    "        all_chunks.append({\n",
    "            \"doi\": doc[\"doi\"],\n",
    "            \"name\": doc[\"name\"],\n",
    "            \"study_id\": doc[\"study_id\"],\n",
    "            \"organisms\": doc[\"organisms\"],\n",
    "            \"authors\":doc[\"authors\"],\n",
    "            \"link\": doc[\"link\"],\n",
    "            \"type\": doc[\"type\"],\n",
    "            \"text\" : chunk.page_content,\n",
    "            \"protocole_name\":doc[\"protocole_name\"]\n",
    "        })\n",
    "    "
   ]
  },
  {
   "cell_type": "code",
   "execution_count": 27,
   "id": "b96d998e",
   "metadata": {},
   "outputs": [
    {
     "data": {
      "text/plain": [
       "4210"
      ]
     },
     "execution_count": 27,
     "metadata": {},
     "output_type": "execute_result"
    }
   ],
   "source": [
    "len(all_chunks)\n",
    "\n"
   ]
  },
  {
   "cell_type": "code",
   "execution_count": 28,
   "id": "a3ed16d3",
   "metadata": {},
   "outputs": [
    {
     "data": {
      "text/plain": [
       "{'doi': '10.25966/t6db-f633',\n",
       " 'name': 'Expression data from drosophila melanogaster',\n",
       " 'study_id': 'GLDS-1',\n",
       " 'organisms': 'Drosophila melanogaster',\n",
       " 'authors': 'Deborah Kimbrell,Michael George',\n",
       " 'link': 'https://osdr.nasa.gov/bio/repo/data/studies/OSD-1',\n",
       " 'type': 'description',\n",
       " 'text': 'Space travel presents unlimited opportunities for exploration and discovery, but requires a more complete understanding of the immunological consequences of long-term exposure to the conditions of spaceflight. To understand these consequences better and to contribute to design of effective countermeasures, we used the Drosophila model to compare innate immune responses to bacteria and fungi in flies that were either raised on earth or in outer space aboard the NASA Space Shuttle Discovery (STS-121). Microarrays were used to characterize changes in gene expression that occur in response to',\n",
       " 'protocole_name': ''}"
      ]
     },
     "execution_count": 28,
     "metadata": {},
     "output_type": "execute_result"
    }
   ],
   "source": [
    "all_chunks[0]"
   ]
  },
  {
   "cell_type": "code",
   "execution_count": 29,
   "id": "acddb201",
   "metadata": {},
   "outputs": [
    {
     "name": "stdout",
     "output_type": "stream",
     "text": [
      "dropped_chunks:32\n"
     ]
    }
   ],
   "source": [
    "all_chunks_length_cleaned = []\n",
    "dropped_chunks = 0\n",
    "for chunk in all_chunks:\n",
    "    if \"List of\" not in chunk['text']:\n",
    "        if len(chunk['text'].strip()) > 100:\n",
    "            all_chunks_length_cleaned.append(chunk)\n",
    "            \n",
    "        else:\n",
    "            dropped_chunks +=1\n",
    "    else:\n",
    "        dropped_chunks+=1\n",
    "print(\"dropped_chunks:\" + str(dropped_chunks))\n"
   ]
  },
  {
   "cell_type": "code",
   "execution_count": 30,
   "id": "841205e3",
   "metadata": {},
   "outputs": [],
   "source": [
    "import numpy as np \n",
    "\n",
    "BATCH_SIZE = 256\n",
    "all_chunks = all_chunks_length_cleaned\n",
    "\n",
    "def embed_chunks_in_batches(chunks, batch_size=BATCH_SIZE):\n",
    "    vectors = []\n",
    "    texts = [c[\"text\"] for c in chunks]\n",
    "    batch_vectors = model.encode(\n",
    "        texts, \n",
    "        normalize_embeddings=True, \n",
    "        batch_size=batch_size,\n",
    "        show_progress_bar=True\n",
    "    ) \n",
    "    vectors.extend(batch_vectors)\n",
    "    return np.array(vectors)"
   ]
  },
  {
   "cell_type": "code",
   "execution_count": 31,
   "id": "8e7fbfbb",
   "metadata": {},
   "outputs": [
    {
     "data": {
      "application/vnd.jupyter.widget-view+json": {
       "model_id": "1defee49332849a49db27f519b06c507",
       "version_major": 2,
       "version_minor": 0
      },
      "text/plain": [
       "Batches:   0%|          | 0/17 [00:00<?, ?it/s]"
      ]
     },
     "metadata": {},
     "output_type": "display_data"
    }
   ],
   "source": [
    "vectors = embed_chunks_in_batches(all_chunks)"
   ]
  },
  {
   "cell_type": "code",
   "execution_count": 32,
   "id": "e96fd867",
   "metadata": {},
   "outputs": [],
   "source": [
    "save_to_pickle(\"vectors_osdr_v1.pkl\", vectors)\n"
   ]
  },
  {
   "cell_type": "code",
   "execution_count": null,
   "id": "ab949aae",
   "metadata": {},
   "outputs": [],
   "source": [
    "vectors = load_pickle(\"vectors_osdr_v1.pkl\")"
   ]
  },
  {
   "cell_type": "code",
   "execution_count": 33,
   "id": "cce30c20",
   "metadata": {},
   "outputs": [],
   "source": [
    "bad_chunks = [c for c in all_chunks if len(c[\"text\"]) > 600]\n",
    "for bc in bad_chunks[:5]:\n",
    "    print(len(bc[\"text\"]), repr(bc[\"text\"][:120]))\n"
   ]
  },
  {
   "cell_type": "code",
   "execution_count": 34,
   "id": "eec81687",
   "metadata": {},
   "outputs": [],
   "source": [
    "fields = [\n",
    "    FieldSchema(\n",
    "        name=\"id\",\n",
    "        dtype=DataType.INT64,\n",
    "        is_primary=True,\n",
    "        auto_id=True\n",
    "    ),\n",
    "    FieldSchema(\n",
    "        name=\"embedding\",\n",
    "        dtype=DataType.FLOAT_VECTOR,\n",
    "        dim=384,\n",
    "        metric_type=\"COSINE\"\n",
    "    ),\n",
    "    FieldSchema(\n",
    "        name=\"doi\",\n",
    "        dtype=DataType.VARCHAR,\n",
    "        max_length=200\n",
    "    ),\n",
    "    FieldSchema(\n",
    "        name=\"name\",\n",
    "        dtype=DataType.VARCHAR,\n",
    "        max_length=500\n",
    "    ),\n",
    "    FieldSchema(\n",
    "        name=\"study_id\",\n",
    "        dtype=DataType.VARCHAR,\n",
    "        max_length=50\n",
    "    ),\n",
    "    FieldSchema(\n",
    "        name=\"organisms\",\n",
    "        dtype=DataType.VARCHAR,\n",
    "        max_length=1000  # can store comma-separated list\n",
    "    ),\n",
    "    FieldSchema(\n",
    "        name=\"authors\",\n",
    "        dtype=DataType.VARCHAR,\n",
    "        max_length=2000  # store as list or comma-separated\n",
    "    ),\n",
    "    FieldSchema(\n",
    "        name=\"link\",\n",
    "        dtype=DataType.VARCHAR,\n",
    "        max_length=500\n",
    "    ),\n",
    "    FieldSchema(\n",
    "        name=\"type\",\n",
    "        dtype=DataType.VARCHAR,\n",
    "        max_length=20\n",
    "    ),\n",
    "    FieldSchema( name=\"text\", dtype=DataType.VARCHAR, max_length=2000 ),\n",
    "    FieldSchema(\n",
    "        name=\"protocole_name\",\n",
    "        dtype=DataType.VARCHAR,\n",
    "        max_length=200\n",
    "    ) \n",
    "]\n",
    "schema = CollectionSchema(\n",
    "    fields,\n",
    "    description=\"RAG collection with OSD experiment metadata\"\n",
    ")\n",
    "\n",
    "collection = Collection(\"osdr\", schema)"
   ]
  },
  {
   "cell_type": "code",
   "execution_count": 37,
   "id": "e260ae08",
   "metadata": {},
   "outputs": [],
   "source": [
    "from datetime import datetime\n",
    "\n",
    "for i in range(0, len(all_chunks), BATCH_SIZE):\n",
    "    batch_vectors = vectors[i:i+BATCH_SIZE]\n",
    "    batch_names = [c[\"name\"] for c in all_chunks[i:i+BATCH_SIZE]]\n",
    "    batch_texts = [c[\"text\"] for c in all_chunks[i:i+BATCH_SIZE]]\n",
    "    batch_authors = [c[\"authors\"] for c in all_chunks[i:i+BATCH_SIZE]]\n",
    "    batch_study_ids =  [c[\"study_id\"] for c in all_chunks[i:i+BATCH_SIZE]]\n",
    "    batch_organisms =  [c[\"organisms\"] for c in all_chunks[i:i+BATCH_SIZE]]\n",
    "    batch_links = [c[\"link\"] for c in all_chunks[i:i+BATCH_SIZE]]\n",
    "    batch_types = [c[\"type\"] for c in all_chunks[i:i+BATCH_SIZE]]\n",
    "    batch_protocole_names = [c[\"protocole_name\"] for c in all_chunks[i:i+BATCH_SIZE]]\n",
    "    batch_doi = []\n",
    "    for c in all_chunks[i:i+BATCH_SIZE]:\n",
    "        doi = c[\"doi\"]\n",
    "        if doi:\n",
    "            batch_doi.append(doi)\n",
    "        else:\n",
    "            doi = \"None\"\n",
    "            batch_doi.append(doi)\n",
    "        \n",
    "        \n",
    "\n",
    "    collection.insert([batch_vectors, batch_doi,batch_names, batch_study_ids, batch_organisms,batch_authors,batch_links,batch_types,batch_texts,batch_protocole_names])"
   ]
  },
  {
   "cell_type": "code",
   "execution_count": null,
   "id": "8be04f9d",
   "metadata": {},
   "outputs": [],
   "source": []
  },
  {
   "cell_type": "code",
   "execution_count": null,
   "id": "927c70de",
   "metadata": {},
   "outputs": [],
   "source": []
  },
  {
   "cell_type": "code",
   "execution_count": null,
   "id": "e83ea6f1",
   "metadata": {},
   "outputs": [],
   "source": []
  },
  {
   "cell_type": "code",
   "execution_count": null,
   "id": "57dd5064",
   "metadata": {},
   "outputs": [],
   "source": []
  }
 ],
 "metadata": {
  "kernelspec": {
   "display_name": "Python 3",
   "language": "python",
   "name": "python3"
  },
  "language_info": {
   "codemirror_mode": {
    "name": "ipython",
    "version": 3
   },
   "file_extension": ".py",
   "mimetype": "text/x-python",
   "name": "python",
   "nbconvert_exporter": "python",
   "pygments_lexer": "ipython3",
   "version": "3.9.21"
  }
 },
 "nbformat": 4,
 "nbformat_minor": 5
}
